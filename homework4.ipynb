{
 "cells": [
  {
   "cell_type": "markdown",
   "metadata": {},
   "source": [
    "# Pset 4 - Deivis Angeli"
   ]
  },
  {
   "cell_type": "markdown",
   "metadata": {},
   "source": [
    "## Exercise 1a"
   ]
  },
  {
   "cell_type": "code",
   "execution_count": 53,
   "metadata": {},
   "outputs": [],
   "source": [
    "using LinearAlgebra\n",
    "struct UniformTrapezoidal\n",
    "    count::Int\n",
    "    Δ::Float64\n",
    "end\n",
    "Base.iterate(S::UniformTrapezoidal, state=1) =  state > S.count ? nothing : ( (state>1 && state<S.count ? S.Δ : S.Δ/2) , state+1)"
   ]
  },
  {
   "cell_type": "code",
   "execution_count": 52,
   "metadata": {},
   "outputs": [],
   "source": [
    "f(x)=x^2\n",
    "Δ=0.001\n",
    "x=0.0:Δ:1.0\n",
    "ω=UniformTrapezoidal(length(x),Δ)\n",
    "dot(f.(x),ω)"
   ]
  },
  {
   "cell_type": "markdown",
   "metadata": {},
   "source": [
    "## Exercise 1b"
   ]
  },
  {
   "cell_type": "code",
   "execution_count": 70,
   "metadata": {},
   "outputs": [
    {
     "name": "stdout",
     "output_type": "stream",
     "text": [
      "length(Ω) = 1001\n",
      "Ω[10] = 0.001\n",
      "Ω[1] = 0.0005\n",
      "Ω[end] = 0.0005\n"
     ]
    }
   ],
   "source": [
    "struct NicerUniformTrapezoidal <: AbstractArray{Int, 1}\n",
    "    count::Int\n",
    "    Δ::Float64\n",
    "end\n",
    "\n",
    "Base.size(S::NicerUniformTrapezoidal) = (S.count,)\n",
    "Base.IndexStyle(::Type{<:NicerUniformTrapezoidal}) = IndexLinear()\n",
    "Base.getindex(S::NicerUniformTrapezoidal, i::Int) = (i>1 && i<S.count ? S.Δ : S.Δ/2)\n",
    "\n",
    "Ω=NicerUniformTrapezoidal(length(x),Δ)\n",
    "\n",
    "@show length(Ω)\n",
    "@show Ω[10]\n",
    "@show Ω[1]\n",
    "@show Ω[end];\n"
   ]
  },
  {
   "cell_type": "markdown",
   "metadata": {},
   "source": []
  },
  {
   "cell_type": "code",
   "execution_count": null,
   "metadata": {},
   "outputs": [],
   "source": []
  }
 ],
 "metadata": {
  "kernelspec": {
   "display_name": "Julia 1.2.0",
   "language": "julia",
   "name": "julia-1.2"
  },
  "language_info": {
   "file_extension": ".jl",
   "mimetype": "application/julia",
   "name": "julia",
   "version": "1.2.0"
  }
 },
 "nbformat": 4,
 "nbformat_minor": 4
}
